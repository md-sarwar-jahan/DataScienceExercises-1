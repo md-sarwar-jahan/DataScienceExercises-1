{
 "cells": [
  {
   "cell_type": "markdown",
   "id": "36864038-36fe-4614-823a-daaed296da75",
   "metadata": {},
   "source": [
    "# Data Science Tools and Ecosystem"
   ]
  },
  {
   "cell_type": "markdown",
   "id": "f1d1c6e7-3c42-448b-b04e-a66a9c52e4b7",
   "metadata": {},
   "source": [
    "In this notebook, Data science Tools and Ecosystem are summarized"
   ]
  },
  {
   "cell_type": "markdown",
   "id": "996c30ac-e24e-403c-b211-fc6065b20571",
   "metadata": {},
   "source": [
    "---"
   ]
  },
  {
   "cell_type": "markdown",
   "id": "6cd1ccfd-b856-4363-a6b3-b90dd4a63eeb",
   "metadata": {},
   "source": [
    "Some of the Popular Languages that Data Scientists use are:"
   ]
  },
  {
   "cell_type": "markdown",
   "id": "7911a6c5-a192-4a11-84e9-ebcbe7d2c207",
   "metadata": {},
   "source": [
    "1. Python\n",
    "2. R\n",
    "3. SQL"
   ]
  },
  {
   "cell_type": "markdown",
   "id": "8e2e4d16-b807-44b4-a128-6e04446ec584",
   "metadata": {},
   "source": [
    "---"
   ]
  },
  {
   "cell_type": "markdown",
   "id": "fbd493e6-caf6-4c53-925a-ac1e3fbda60c",
   "metadata": {},
   "source": [
    "Some of the commonly used libraries used by Data Scientists include:"
   ]
  },
  {
   "cell_type": "markdown",
   "id": "485ff7a1-e175-456d-a3d1-f29181f63477",
   "metadata": {},
   "source": [
    "1. numpy\n",
    "2. pandas\n",
    "3. matplotlib\n",
    "4. seaborn\n",
    "5. Scikit-learn"
   ]
  },
  {
   "cell_type": "markdown",
   "id": "ddf68602-5ef2-4ebb-8efd-8d308e25e55d",
   "metadata": {},
   "source": [
    "|Data Science Tools|\n",
    "|------------------|\n",
    "|Jupyter Nootbook|\n",
    "|Rstudio|\n",
    "|Visual Studio|"
   ]
  },
  {
   "cell_type": "markdown",
   "id": "7e844bde-ab55-4a82-b87b-eecab3ee7450",
   "metadata": {},
   "source": [
    "### "
   ]
  },
  {
   "cell_type": "markdown",
   "id": "4e6f8a0b-af1d-4d16-b32b-1045b3fd90a4",
   "metadata": {},
   "source": [
    "### Below are a few examples of evaluating arithmetic expressions in Python"
   ]
  },
  {
   "cell_type": "code",
   "execution_count": 20,
   "id": "7d683919-cb8c-4de9-90c6-67f9743d3fc6",
   "metadata": {},
   "outputs": [
    {
     "data": {
      "text/plain": [
       "17"
      ]
     },
     "execution_count": 20,
     "metadata": {},
     "output_type": "execute_result"
    }
   ],
   "source": [
    "# This a simple arithmetic expression to mutiply then add integers\n",
    "(3*4)+5"
   ]
  },
  {
   "cell_type": "code",
   "execution_count": 30,
   "id": "80a93629-eea1-48a6-a173-1ed00ad252b7",
   "metadata": {},
   "outputs": [
    {
     "name": "stdout",
     "output_type": "stream",
     "text": [
      "3.33\n"
     ]
    }
   ],
   "source": [
    "# This will convert 200 minutes to hours by dividing by 60\n",
    "Hours = 200/60\n",
    "print(round(Hours, 2))"
   ]
  },
  {
   "cell_type": "markdown",
   "id": "338d8897-4a55-4c3c-b655-c7c7c20efcb3",
   "metadata": {},
   "source": [
    "---"
   ]
  },
  {
   "cell_type": "markdown",
   "id": "ec3a8c2e-4eb9-4c31-99d4-b78ef0612aeb",
   "metadata": {},
   "source": [
    "**Objectives**\n",
    "- List popular languages for Data Science\n",
    "- Identify commonly used libraries in Data Science\n",
    "- Demonstrate arithmetic operations in Python\n",
    "- Convert units like minutes to hours using code"
   ]
  },
  {
   "cell_type": "markdown",
   "id": "fbc5d436-2c5b-4877-b1ff-08a1d8351d86",
   "metadata": {},
   "source": [
    "---"
   ]
  },
  {
   "cell_type": "markdown",
   "id": "0366f744-26ee-4440-96e2-56d952b36c32",
   "metadata": {},
   "source": [
    "## Author\n",
    "Md Sarwar Jahan"
   ]
  },
  {
   "cell_type": "code",
   "execution_count": null,
   "id": "8a258881-7110-4f00-b666-42c205a11d01",
   "metadata": {},
   "outputs": [],
   "source": []
  }
 ],
 "metadata": {
  "kernelspec": {
   "display_name": "Python [conda env:base] *",
   "language": "python",
   "name": "conda-base-py"
  },
  "language_info": {
   "codemirror_mode": {
    "name": "ipython",
    "version": 3
   },
   "file_extension": ".py",
   "mimetype": "text/x-python",
   "name": "python",
   "nbconvert_exporter": "python",
   "pygments_lexer": "ipython3",
   "version": "3.11.7"
  }
 },
 "nbformat": 4,
 "nbformat_minor": 5
}
